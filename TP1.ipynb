{
 "cells": [
  {
   "cell_type": "markdown",
   "metadata": {},
   "source": [
    "Travaux pratiques pour modéliser un système de communication"
   ]
  },
  {
   "cell_type": "code",
   "execution_count": 1,
   "metadata": {},
   "outputs": [],
   "source": [
    "import numpy as np\n",
    "import matplotlib.pyplot as plt\n",
    "from commpy.channels import awgn"
   ]
  },
  {
   "cell_type": "markdown",
   "metadata": {},
   "source": [
    "Constantes"
   ]
  },
  {
   "cell_type": "code",
   "execution_count": 3,
   "metadata": {},
   "outputs": [],
   "source": [
    "M = 4               # Size of the signal constellation\n",
    "k = int(np.log2(M)) # Number of bits per symbol\n",
    "sps = 100           # Samples per symbol\n",
    "N = 10              # Number of data bits"
   ]
  },
  {
   "cell_type": "markdown",
   "metadata": {},
   "source": [
    "Transmitter\n",
    "To do :\n",
    "1. Allocate data to each level ([1, -1] or [1,0.33,-0.33,-1])\n",
    "2. Upsample with zeros\n",
    "2. Generate pulse (RRC) and plot\n",
    "3. Apply pulse shapping (convolve)\n",
    "4. Plot"
   ]
  },
  {
   "cell_type": "code",
   "execution_count": 4,
   "metadata": {},
   "outputs": [
    {
     "name": "stdout",
     "output_type": "stream",
     "text": [
      "[0 1 0 2 0]\n"
     ]
    }
   ],
   "source": [
    "data = np.random.randint(M, size=int(N/k))\n",
    "txSig = data\n",
    "print(data)"
   ]
  },
  {
   "cell_type": "code",
   "execution_count": null,
   "metadata": {},
   "outputs": [],
   "source": []
  },
  {
   "cell_type": "markdown",
   "metadata": {},
   "source": [
    "Channel"
   ]
  },
  {
   "cell_type": "code",
   "execution_count": 21,
   "metadata": {},
   "outputs": [],
   "source": [
    "EbNo = 10;   #en dB\n",
    "snr = EbNo + 10*np.log10(k) - 10*np.log10(0.5*sps); #snr: S/N per sample in dB\n",
    "rxSig = awgn(txSig, snr)"
   ]
  },
  {
   "cell_type": "markdown",
   "metadata": {},
   "source": [
    "Receiver\n",
    "To do:\n",
    "1. Apply RRC again\n",
    "2. Take a sample every Tb\n",
    "3. Decide if it is [1, -1] (M=2) or [1,0.33,-0.33,1] (M=4)"
   ]
  },
  {
   "cell_type": "code",
   "execution_count": 22,
   "metadata": {},
   "outputs": [
    {
     "data": {
      "text/plain": [
       "[<matplotlib.lines.Line2D at 0x1bfb51147c0>]"
      ]
     },
     "execution_count": 22,
     "metadata": {},
     "output_type": "execute_result"
    },
    {
     "data": {
      "image/png": "[encoded data removed]",
      "text/plain": [
       "<Figure size 432x288 with 1 Axes>"
      ]
     },
     "metadata": {
      "needs_background": "light"
     },
     "output_type": "display_data"
    }
   ],
   "source": [
    "plt.plot(rxSig)"
   ]
  },
  {
   "cell_type": "markdown",
   "metadata": {},
   "source": [
    "BER\n",
    "To do:\n",
    "1. Compare input with output, compute BER\n",
    "2. Add a loop to vary Eb/N0 from 0 to 10dB by step of 0.1 dB\n",
    "3. Plot BER vs. Eb/N0 curve"
   ]
  },
  {
   "cell_type": "code",
   "execution_count": null,
   "metadata": {},
   "outputs": [],
   "source": []
  }
 ],
 "metadata": {
  "interpreter": {
   "hash": "b3ba2566441a7c06988d0923437866b63cedc61552a5af99d1f4fb67d367b25f"
  },
  "kernelspec": {
   "display_name": "Python 3.8.3 ('base')",
   "language": "python",
   "name": "python3"
  },
  "language_info": {
   "codemirror_mode": {
    "name": "ipython",
    "version": 3
   },
   "file_extension": ".py",
   "mimetype": "text/x-python",
   "name": "python",
   "nbconvert_exporter": "python",
   "pygments_lexer": "ipython3",
   "version": "3.12.5"
  },
  "orig_nbformat": 4
 },
 "nbformat": 4,
 "nbformat_minor": 2
}
